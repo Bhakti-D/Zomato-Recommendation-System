{
 "cells": [
  {
   "cell_type": "markdown",
   "metadata": {},
   "source": [
    "### Objective - Create a content based recommender system using the zomato database."
   ]
  },
  {
   "cell_type": "markdown",
   "metadata": {},
   "source": [
    "#### Columns description\n",
    "\n",
    "- url- represents the url of the restaurant in the zomato website\n",
    "\n",
    "- address - specifies the address of the restaurant in Bengaluru\n",
    "\n",
    "- name -  name of the restaurant\n",
    "\n",
    "- online_order-  whether online ordering is available in the restaurant or not\n",
    "\n",
    "- book_table - table book option available or not\n",
    "\n",
    "- rate -  overall rating of the restaurant out of 5\n",
    "\n",
    "- votes - total number of rating for the restaurant as of the above mentioned date\n",
    "\n",
    "- phone - phone number of the restaurant\n",
    "\n",
    "- location - neighborhood in which the restaurant is located\n",
    "\n",
    "- rest_type Tyepe of the restaurant\n",
    "\n",
    "- dish_liked - dishes people liked in the restaurant\n",
    "\n",
    "- cuisines - food styles, separated by comma\n",
    "\n",
    "- approx_cost(for two people) - the approximate cost for meal for two people\n",
    "\n",
    "- reviews_list - list of tuples containing reviews for the restaurant, each tuple\n",
    "\n",
    "- menu_item - list of menus available in the restaurant\n",
    "\n",
    "- listed_in(type) type of meal\n",
    "\n",
    "- listed_in(city) contains the neighborhood in which the restaurant is listed"
   ]
  },
  {
   "cell_type": "code",
   "execution_count": 2,
   "metadata": {},
   "outputs": [],
   "source": [
    "import pandas as pd\n",
    "import numpy as np\n",
    "import matplotlib.pyplot as plt\n",
    "import seaborn as sns\n",
    "\n",
    "import warnings\n",
    "warnings.filterwarnings(\"ignore\")\n",
    " "
   ]
  },
  {
   "cell_type": "code",
   "execution_count": 3,
   "metadata": {},
   "outputs": [
    {
     "data": {
      "text/html": [
       "<div>\n",
       "<style scoped>\n",
       "    .dataframe tbody tr th:only-of-type {\n",
       "        vertical-align: middle;\n",
       "    }\n",
       "\n",
       "    .dataframe tbody tr th {\n",
       "        vertical-align: top;\n",
       "    }\n",
       "\n",
       "    .dataframe thead th {\n",
       "        text-align: right;\n",
       "    }\n",
       "</style>\n",
       "<table border=\"1\" class=\"dataframe\">\n",
       "  <thead>\n",
       "    <tr style=\"text-align: right;\">\n",
       "      <th></th>\n",
       "      <th>url</th>\n",
       "      <th>address</th>\n",
       "      <th>name</th>\n",
       "      <th>online_order</th>\n",
       "      <th>book_table</th>\n",
       "      <th>rate</th>\n",
       "      <th>votes</th>\n",
       "      <th>phone</th>\n",
       "      <th>location</th>\n",
       "      <th>rest_type</th>\n",
       "      <th>dish_liked</th>\n",
       "      <th>cuisines</th>\n",
       "      <th>approx_cost(for two people)</th>\n",
       "      <th>reviews_list</th>\n",
       "      <th>menu_item</th>\n",
       "      <th>listed_in(type)</th>\n",
       "      <th>listed_in(city)</th>\n",
       "    </tr>\n",
       "  </thead>\n",
       "  <tbody>\n",
       "    <tr>\n",
       "      <th>0</th>\n",
       "      <td>https://www.zomato.com/bangalore/jalsa-banasha...</td>\n",
       "      <td>942, 21st Main Road, 2nd Stage, Banashankari, ...</td>\n",
       "      <td>Jalsa</td>\n",
       "      <td>Yes</td>\n",
       "      <td>Yes</td>\n",
       "      <td>4.1/5</td>\n",
       "      <td>775</td>\n",
       "      <td>080 42297555\\r\\n+91 9743772233</td>\n",
       "      <td>Banashankari</td>\n",
       "      <td>Casual Dining</td>\n",
       "      <td>Pasta, Lunch Buffet, Masala Papad, Paneer Laja...</td>\n",
       "      <td>North Indian, Mughlai, Chinese</td>\n",
       "      <td>800</td>\n",
       "      <td>[('Rated 4.0', 'RATED\\n  A beautiful place to ...</td>\n",
       "      <td>[]</td>\n",
       "      <td>Buffet</td>\n",
       "      <td>Banashankari</td>\n",
       "    </tr>\n",
       "    <tr>\n",
       "      <th>1</th>\n",
       "      <td>https://www.zomato.com/bangalore/spice-elephan...</td>\n",
       "      <td>2nd Floor, 80 Feet Road, Near Big Bazaar, 6th ...</td>\n",
       "      <td>Spice Elephant</td>\n",
       "      <td>Yes</td>\n",
       "      <td>No</td>\n",
       "      <td>4.1/5</td>\n",
       "      <td>787</td>\n",
       "      <td>080 41714161</td>\n",
       "      <td>Banashankari</td>\n",
       "      <td>Casual Dining</td>\n",
       "      <td>Momos, Lunch Buffet, Chocolate Nirvana, Thai G...</td>\n",
       "      <td>Chinese, North Indian, Thai</td>\n",
       "      <td>800</td>\n",
       "      <td>[('Rated 4.0', 'RATED\\n  Had been here for din...</td>\n",
       "      <td>[]</td>\n",
       "      <td>Buffet</td>\n",
       "      <td>Banashankari</td>\n",
       "    </tr>\n",
       "    <tr>\n",
       "      <th>2</th>\n",
       "      <td>https://www.zomato.com/SanchurroBangalore?cont...</td>\n",
       "      <td>1112, Next to KIMS Medical College, 17th Cross...</td>\n",
       "      <td>San Churro Cafe</td>\n",
       "      <td>Yes</td>\n",
       "      <td>No</td>\n",
       "      <td>3.8/5</td>\n",
       "      <td>918</td>\n",
       "      <td>+91 9663487993</td>\n",
       "      <td>Banashankari</td>\n",
       "      <td>Cafe, Casual Dining</td>\n",
       "      <td>Churros, Cannelloni, Minestrone Soup, Hot Choc...</td>\n",
       "      <td>Cafe, Mexican, Italian</td>\n",
       "      <td>800</td>\n",
       "      <td>[('Rated 3.0', \"RATED\\n  Ambience is not that ...</td>\n",
       "      <td>[]</td>\n",
       "      <td>Buffet</td>\n",
       "      <td>Banashankari</td>\n",
       "    </tr>\n",
       "  </tbody>\n",
       "</table>\n",
       "</div>"
      ],
      "text/plain": [
       "                                                 url  \\\n",
       "0  https://www.zomato.com/bangalore/jalsa-banasha...   \n",
       "1  https://www.zomato.com/bangalore/spice-elephan...   \n",
       "2  https://www.zomato.com/SanchurroBangalore?cont...   \n",
       "\n",
       "                                             address             name  \\\n",
       "0  942, 21st Main Road, 2nd Stage, Banashankari, ...            Jalsa   \n",
       "1  2nd Floor, 80 Feet Road, Near Big Bazaar, 6th ...   Spice Elephant   \n",
       "2  1112, Next to KIMS Medical College, 17th Cross...  San Churro Cafe   \n",
       "\n",
       "  online_order book_table   rate  votes                           phone  \\\n",
       "0          Yes        Yes  4.1/5    775  080 42297555\\r\\n+91 9743772233   \n",
       "1          Yes         No  4.1/5    787                    080 41714161   \n",
       "2          Yes         No  3.8/5    918                  +91 9663487993   \n",
       "\n",
       "       location            rest_type  \\\n",
       "0  Banashankari        Casual Dining   \n",
       "1  Banashankari        Casual Dining   \n",
       "2  Banashankari  Cafe, Casual Dining   \n",
       "\n",
       "                                          dish_liked  \\\n",
       "0  Pasta, Lunch Buffet, Masala Papad, Paneer Laja...   \n",
       "1  Momos, Lunch Buffet, Chocolate Nirvana, Thai G...   \n",
       "2  Churros, Cannelloni, Minestrone Soup, Hot Choc...   \n",
       "\n",
       "                         cuisines approx_cost(for two people)  \\\n",
       "0  North Indian, Mughlai, Chinese                         800   \n",
       "1     Chinese, North Indian, Thai                         800   \n",
       "2          Cafe, Mexican, Italian                         800   \n",
       "\n",
       "                                        reviews_list menu_item  \\\n",
       "0  [('Rated 4.0', 'RATED\\n  A beautiful place to ...        []   \n",
       "1  [('Rated 4.0', 'RATED\\n  Had been here for din...        []   \n",
       "2  [('Rated 3.0', \"RATED\\n  Ambience is not that ...        []   \n",
       "\n",
       "  listed_in(type) listed_in(city)  \n",
       "0          Buffet    Banashankari  \n",
       "1          Buffet    Banashankari  \n",
       "2          Buffet    Banashankari  "
      ]
     },
     "execution_count": 3,
     "metadata": {},
     "output_type": "execute_result"
    }
   ],
   "source": [
    "df = pd.read_csv('zomato.csv')\n",
    "df.head(3)"
   ]
  },
  {
   "cell_type": "code",
   "execution_count": 4,
   "metadata": {},
   "outputs": [
    {
     "name": "stdout",
     "output_type": "stream",
     "text": [
      "<class 'pandas.core.frame.DataFrame'>\n",
      "RangeIndex: 51717 entries, 0 to 51716\n",
      "Data columns (total 17 columns):\n",
      " #   Column                       Non-Null Count  Dtype \n",
      "---  ------                       --------------  ----- \n",
      " 0   url                          51717 non-null  object\n",
      " 1   address                      51717 non-null  object\n",
      " 2   name                         51717 non-null  object\n",
      " 3   online_order                 51717 non-null  object\n",
      " 4   book_table                   51717 non-null  object\n",
      " 5   rate                         43942 non-null  object\n",
      " 6   votes                        51717 non-null  int64 \n",
      " 7   phone                        50509 non-null  object\n",
      " 8   location                     51696 non-null  object\n",
      " 9   rest_type                    51490 non-null  object\n",
      " 10  dish_liked                   23639 non-null  object\n",
      " 11  cuisines                     51672 non-null  object\n",
      " 12  approx_cost(for two people)  51371 non-null  object\n",
      " 13  reviews_list                 51717 non-null  object\n",
      " 14  menu_item                    51717 non-null  object\n",
      " 15  listed_in(type)              51717 non-null  object\n",
      " 16  listed_in(city)              51717 non-null  object\n",
      "dtypes: int64(1), object(16)\n",
      "memory usage: 6.7+ MB\n"
     ]
    }
   ],
   "source": [
    "df.info()"
   ]
  },
  {
   "cell_type": "code",
   "execution_count": 5,
   "metadata": {},
   "outputs": [
    {
     "data": {
      "text/plain": [
       "object    16\n",
       "int64      1\n",
       "dtype: int64"
      ]
     },
     "execution_count": 5,
     "metadata": {},
     "output_type": "execute_result"
    }
   ],
   "source": [
    "df.dtypes.value_counts()"
   ]
  },
  {
   "cell_type": "code",
   "execution_count": 6,
   "metadata": {},
   "outputs": [
    {
     "data": {
      "text/plain": [
       "url                                0\n",
       "address                            0\n",
       "name                               0\n",
       "online_order                       0\n",
       "book_table                         0\n",
       "rate                            7775\n",
       "votes                              0\n",
       "phone                           1208\n",
       "location                          21\n",
       "rest_type                        227\n",
       "dish_liked                     28078\n",
       "cuisines                          45\n",
       "approx_cost(for two people)      346\n",
       "reviews_list                       0\n",
       "menu_item                          0\n",
       "listed_in(type)                    0\n",
       "listed_in(city)                    0\n",
       "dtype: int64"
      ]
     },
     "execution_count": 6,
     "metadata": {},
     "output_type": "execute_result"
    }
   ],
   "source": [
    "df.isnull().sum()"
   ]
  },
  {
   "cell_type": "code",
   "execution_count": 7,
   "metadata": {},
   "outputs": [],
   "source": [
    "df.drop(columns=['url','address','phone'],axis=1,inplace=True)"
   ]
  },
  {
   "cell_type": "code",
   "execution_count": 8,
   "metadata": {},
   "outputs": [
    {
     "data": {
      "text/plain": [
       "array(['4.1/5', '3.8/5', '3.7/5', '3.6/5', '4.6/5', '4.0/5', '4.2/5',\n",
       "       '3.9/5', '3.1/5', '3.0/5', '3.2/5', '3.3/5', '2.8/5', '4.4/5',\n",
       "       '4.3/5', 'NEW', '2.9/5', '3.5/5', nan, '2.6/5', '3.8 /5', '3.4/5',\n",
       "       '4.5/5', '2.5/5', '2.7/5', '4.7/5', '2.4/5', '2.2/5', '2.3/5',\n",
       "       '3.4 /5', '-', '3.6 /5', '4.8/5', '3.9 /5', '4.2 /5', '4.0 /5',\n",
       "       '4.1 /5', '3.7 /5', '3.1 /5', '2.9 /5', '3.3 /5', '2.8 /5',\n",
       "       '3.5 /5', '2.7 /5', '2.5 /5', '3.2 /5', '2.6 /5', '4.5 /5',\n",
       "       '4.3 /5', '4.4 /5', '4.9/5', '2.1/5', '2.0/5', '1.8/5', '4.6 /5',\n",
       "       '4.9 /5', '3.0 /5', '4.8 /5', '2.3 /5', '4.7 /5', '2.4 /5',\n",
       "       '2.1 /5', '2.2 /5', '2.0 /5', '1.8 /5'], dtype=object)"
      ]
     },
     "execution_count": 8,
     "metadata": {},
     "output_type": "execute_result"
    }
   ],
   "source": [
    "df['rate'].unique()"
   ]
  },
  {
   "cell_type": "code",
   "execution_count": 9,
   "metadata": {},
   "outputs": [
    {
     "data": {
      "text/plain": [
       "(49440, 14)"
      ]
     },
     "execution_count": 9,
     "metadata": {},
     "output_type": "execute_result"
    }
   ],
   "source": [
    "\n",
    "df['rate'] = df['rate'].str.split('/').str.get(0) # strip '/5'\n",
    "df = df[df.rate !='NEW'] # remove the rows which has rate=='NEW'\n",
    "df = df[df.rate !='-'].reset_index(drop=True) #remove the rows which has rate=='NEW'\n",
    "df['rate'] = df['rate'].astype('float') # convert the rate column from object to float\n",
    "df['rate'] = df['rate'].fillna(round(df['rate'].mean(),2)) # fill na values with mean\n",
    "df.shape # shape of the dataframe"
   ]
  },
  {
   "cell_type": "code",
   "execution_count": 10,
   "metadata": {},
   "outputs": [
    {
     "data": {
      "text/plain": [
       "(49440, 14)"
      ]
     },
     "execution_count": 10,
     "metadata": {},
     "output_type": "execute_result"
    }
   ],
   "source": [
    "df.shape"
   ]
  },
  {
   "cell_type": "code",
   "execution_count": 11,
   "metadata": {},
   "outputs": [
    {
     "name": "stdout",
     "output_type": "stream",
     "text": [
      "<class 'pandas.core.frame.DataFrame'>\n",
      "RangeIndex: 49440 entries, 0 to 49439\n",
      "Data columns (total 14 columns):\n",
      " #   Column                       Non-Null Count  Dtype  \n",
      "---  ------                       --------------  -----  \n",
      " 0   name                         49440 non-null  object \n",
      " 1   online_order                 49440 non-null  object \n",
      " 2   book_table                   49440 non-null  object \n",
      " 3   rate                         49440 non-null  float64\n",
      " 4   votes                        49440 non-null  int64  \n",
      " 5   location                     49419 non-null  object \n",
      " 6   rest_type                    49215 non-null  object \n",
      " 7   dish_liked                   23492 non-null  object \n",
      " 8   cuisines                     49395 non-null  object \n",
      " 9   approx_cost(for two people)  49099 non-null  float64\n",
      " 10  reviews_list                 49440 non-null  object \n",
      " 11  menu_item                    49440 non-null  object \n",
      " 12  listed_in(type)              49440 non-null  object \n",
      " 13  listed_in(city)              49440 non-null  object \n",
      "dtypes: float64(2), int64(1), object(11)\n",
      "memory usage: 5.3+ MB\n"
     ]
    }
   ],
   "source": [
    "# 'approx_cost(for two people)' column\n",
    "df['approx_cost(for two people)'] = df['approx_cost(for two people)'].astype(str)\n",
    "df['approx_cost(for two people)'] = df['approx_cost(for two people)'].apply(lambda x: x.replace(',','')) #Using lambda function to replace ',' from cost\n",
    "df['approx_cost(for two people)'] = df['approx_cost(for two people)'].astype('float') # Change the object to Float\n",
    "df.info()"
   ]
  },
  {
   "cell_type": "code",
   "execution_count": 12,
   "metadata": {},
   "outputs": [
    {
     "data": {
      "text/html": [
       "<div>\n",
       "<style scoped>\n",
       "    .dataframe tbody tr th:only-of-type {\n",
       "        vertical-align: middle;\n",
       "    }\n",
       "\n",
       "    .dataframe tbody tr th {\n",
       "        vertical-align: top;\n",
       "    }\n",
       "\n",
       "    .dataframe thead th {\n",
       "        text-align: right;\n",
       "    }\n",
       "</style>\n",
       "<table border=\"1\" class=\"dataframe\">\n",
       "  <thead>\n",
       "    <tr style=\"text-align: right;\">\n",
       "      <th></th>\n",
       "      <th>name</th>\n",
       "      <th>online_order</th>\n",
       "      <th>book_table</th>\n",
       "      <th>rate</th>\n",
       "      <th>votes</th>\n",
       "      <th>location</th>\n",
       "      <th>rest_type</th>\n",
       "      <th>dish_liked</th>\n",
       "      <th>cuisines</th>\n",
       "      <th>approx_cost(for two people)</th>\n",
       "      <th>reviews_list</th>\n",
       "      <th>menu_item</th>\n",
       "      <th>listed_in(type)</th>\n",
       "      <th>listed_in(city)</th>\n",
       "    </tr>\n",
       "  </thead>\n",
       "  <tbody>\n",
       "    <tr>\n",
       "      <th>0</th>\n",
       "      <td>Jalsa</td>\n",
       "      <td>Yes</td>\n",
       "      <td>Yes</td>\n",
       "      <td>4.1</td>\n",
       "      <td>775</td>\n",
       "      <td>Banashankari</td>\n",
       "      <td>Casual Dining</td>\n",
       "      <td>Pasta, Lunch Buffet, Masala Papad, Paneer Laja...</td>\n",
       "      <td>North Indian, Mughlai, Chinese</td>\n",
       "      <td>800.0</td>\n",
       "      <td>[('Rated 4.0', 'RATED\\n  A beautiful place to ...</td>\n",
       "      <td>[]</td>\n",
       "      <td>Buffet</td>\n",
       "      <td>Banashankari</td>\n",
       "    </tr>\n",
       "    <tr>\n",
       "      <th>1</th>\n",
       "      <td>Spice Elephant</td>\n",
       "      <td>Yes</td>\n",
       "      <td>No</td>\n",
       "      <td>4.1</td>\n",
       "      <td>787</td>\n",
       "      <td>Banashankari</td>\n",
       "      <td>Casual Dining</td>\n",
       "      <td>Momos, Lunch Buffet, Chocolate Nirvana, Thai G...</td>\n",
       "      <td>Chinese, North Indian, Thai</td>\n",
       "      <td>800.0</td>\n",
       "      <td>[('Rated 4.0', 'RATED\\n  Had been here for din...</td>\n",
       "      <td>[]</td>\n",
       "      <td>Buffet</td>\n",
       "      <td>Banashankari</td>\n",
       "    </tr>\n",
       "    <tr>\n",
       "      <th>2</th>\n",
       "      <td>San Churro Cafe</td>\n",
       "      <td>Yes</td>\n",
       "      <td>No</td>\n",
       "      <td>3.8</td>\n",
       "      <td>918</td>\n",
       "      <td>Banashankari</td>\n",
       "      <td>Cafe, Casual Dining</td>\n",
       "      <td>Churros, Cannelloni, Minestrone Soup, Hot Choc...</td>\n",
       "      <td>Cafe, Mexican, Italian</td>\n",
       "      <td>800.0</td>\n",
       "      <td>[('Rated 3.0', \"RATED\\n  Ambience is not that ...</td>\n",
       "      <td>[]</td>\n",
       "      <td>Buffet</td>\n",
       "      <td>Banashankari</td>\n",
       "    </tr>\n",
       "  </tbody>\n",
       "</table>\n",
       "</div>"
      ],
      "text/plain": [
       "              name online_order book_table  rate  votes      location  \\\n",
       "0            Jalsa          Yes        Yes   4.1    775  Banashankari   \n",
       "1   Spice Elephant          Yes         No   4.1    787  Banashankari   \n",
       "2  San Churro Cafe          Yes         No   3.8    918  Banashankari   \n",
       "\n",
       "             rest_type                                         dish_liked  \\\n",
       "0        Casual Dining  Pasta, Lunch Buffet, Masala Papad, Paneer Laja...   \n",
       "1        Casual Dining  Momos, Lunch Buffet, Chocolate Nirvana, Thai G...   \n",
       "2  Cafe, Casual Dining  Churros, Cannelloni, Minestrone Soup, Hot Choc...   \n",
       "\n",
       "                         cuisines  approx_cost(for two people)  \\\n",
       "0  North Indian, Mughlai, Chinese                        800.0   \n",
       "1     Chinese, North Indian, Thai                        800.0   \n",
       "2          Cafe, Mexican, Italian                        800.0   \n",
       "\n",
       "                                        reviews_list menu_item  \\\n",
       "0  [('Rated 4.0', 'RATED\\n  A beautiful place to ...        []   \n",
       "1  [('Rated 4.0', 'RATED\\n  Had been here for din...        []   \n",
       "2  [('Rated 3.0', \"RATED\\n  Ambience is not that ...        []   \n",
       "\n",
       "  listed_in(type) listed_in(city)  \n",
       "0          Buffet    Banashankari  \n",
       "1          Buffet    Banashankari  \n",
       "2          Buffet    Banashankari  "
      ]
     },
     "execution_count": 12,
     "metadata": {},
     "output_type": "execute_result"
    }
   ],
   "source": [
    "df.head(3)"
   ]
  },
  {
   "cell_type": "code",
   "execution_count": 13,
   "metadata": {},
   "outputs": [
    {
     "data": {
      "text/html": [
       "<div>\n",
       "<style scoped>\n",
       "    .dataframe tbody tr th:only-of-type {\n",
       "        vertical-align: middle;\n",
       "    }\n",
       "\n",
       "    .dataframe tbody tr th {\n",
       "        vertical-align: top;\n",
       "    }\n",
       "\n",
       "    .dataframe thead th {\n",
       "        text-align: right;\n",
       "    }\n",
       "</style>\n",
       "<table border=\"1\" class=\"dataframe\">\n",
       "  <thead>\n",
       "    <tr style=\"text-align: right;\">\n",
       "      <th></th>\n",
       "      <th>name</th>\n",
       "      <th>location</th>\n",
       "      <th>listed_in(city)</th>\n",
       "      <th>0</th>\n",
       "    </tr>\n",
       "  </thead>\n",
       "  <tbody>\n",
       "    <tr>\n",
       "      <th>0</th>\n",
       "      <td>#FeelTheROLL</td>\n",
       "      <td>Bellandur</td>\n",
       "      <td>Bellandur</td>\n",
       "      <td>1</td>\n",
       "    </tr>\n",
       "    <tr>\n",
       "      <th>1</th>\n",
       "      <td>#FeelTheROLL</td>\n",
       "      <td>Bellandur</td>\n",
       "      <td>Sarjapur Road</td>\n",
       "      <td>1</td>\n",
       "    </tr>\n",
       "    <tr>\n",
       "      <th>2</th>\n",
       "      <td>#L-81 Cafe</td>\n",
       "      <td>HSR</td>\n",
       "      <td>BTM</td>\n",
       "      <td>2</td>\n",
       "    </tr>\n",
       "    <tr>\n",
       "      <th>3</th>\n",
       "      <td>#L-81 Cafe</td>\n",
       "      <td>HSR</td>\n",
       "      <td>HSR</td>\n",
       "      <td>2</td>\n",
       "    </tr>\n",
       "    <tr>\n",
       "      <th>4</th>\n",
       "      <td>#L-81 Cafe</td>\n",
       "      <td>HSR</td>\n",
       "      <td>Koramangala 4th Block</td>\n",
       "      <td>2</td>\n",
       "    </tr>\n",
       "    <tr>\n",
       "      <th>...</th>\n",
       "      <td>...</td>\n",
       "      <td>...</td>\n",
       "      <td>...</td>\n",
       "      <td>...</td>\n",
       "    </tr>\n",
       "    <tr>\n",
       "      <th>31557</th>\n",
       "      <td>sCoolMeal</td>\n",
       "      <td>BTM</td>\n",
       "      <td>BTM</td>\n",
       "      <td>1</td>\n",
       "    </tr>\n",
       "    <tr>\n",
       "      <th>31558</th>\n",
       "      <td>sCoolMeal</td>\n",
       "      <td>BTM</td>\n",
       "      <td>Koramangala 4th Block</td>\n",
       "      <td>1</td>\n",
       "    </tr>\n",
       "    <tr>\n",
       "      <th>31559</th>\n",
       "      <td>sCoolMeal</td>\n",
       "      <td>BTM</td>\n",
       "      <td>Koramangala 5th Block</td>\n",
       "      <td>1</td>\n",
       "    </tr>\n",
       "    <tr>\n",
       "      <th>31560</th>\n",
       "      <td>sCoolMeal</td>\n",
       "      <td>BTM</td>\n",
       "      <td>Koramangala 6th Block</td>\n",
       "      <td>1</td>\n",
       "    </tr>\n",
       "    <tr>\n",
       "      <th>31561</th>\n",
       "      <td>sCoolMeal</td>\n",
       "      <td>BTM</td>\n",
       "      <td>Koramangala 7th Block</td>\n",
       "      <td>1</td>\n",
       "    </tr>\n",
       "  </tbody>\n",
       "</table>\n",
       "<p>31562 rows × 4 columns</p>\n",
       "</div>"
      ],
      "text/plain": [
       "               name   location        listed_in(city)  0\n",
       "0      #FeelTheROLL  Bellandur              Bellandur  1\n",
       "1      #FeelTheROLL  Bellandur          Sarjapur Road  1\n",
       "2        #L-81 Cafe        HSR                    BTM  2\n",
       "3        #L-81 Cafe        HSR                    HSR  2\n",
       "4        #L-81 Cafe        HSR  Koramangala 4th Block  2\n",
       "...             ...        ...                    ... ..\n",
       "31557     sCoolMeal        BTM                    BTM  1\n",
       "31558     sCoolMeal        BTM  Koramangala 4th Block  1\n",
       "31559     sCoolMeal        BTM  Koramangala 5th Block  1\n",
       "31560     sCoolMeal        BTM  Koramangala 6th Block  1\n",
       "31561     sCoolMeal        BTM  Koramangala 7th Block  1\n",
       "\n",
       "[31562 rows x 4 columns]"
      ]
     },
     "execution_count": 13,
     "metadata": {},
     "output_type": "execute_result"
    }
   ],
   "source": [
    "df.groupby(['name','location','listed_in(city)']).size().reset_index()"
   ]
  },
  {
   "cell_type": "code",
   "execution_count": 14,
   "metadata": {},
   "outputs": [
    {
     "data": {
      "text/plain": [
       "BTM                      2032\n",
       "Koramangala 7th Block    1752\n",
       "Koramangala 4th Block    1731\n",
       "Koramangala 5th Block    1713\n",
       "Koramangala 6th Block    1620\n",
       "Jayanagar                1545\n",
       "JP Nagar                 1272\n",
       "HSR                      1113\n",
       "Indiranagar              1023\n",
       "Bannerghatta Road         945\n",
       "Marathahalli              927\n",
       "Brigade Road              904\n",
       "Brookefield               900\n",
       "Church Street             873\n",
       "MG Road                   840\n",
       "Whitefield                828\n",
       "Old Airport Road          778\n",
       "Bellandur                 777\n",
       "Basavanagudi              770\n",
       "Sarjapur Road             756\n",
       "Kammanahalli              754\n",
       "Kalyan Nagar              745\n",
       "Lavelle Road              727\n",
       "Frazer Town               697\n",
       "Residency Road            693\n",
       "Malleshwaram              656\n",
       "Rajajinagar               534\n",
       "Banashankari              533\n",
       "Electronic City           497\n",
       "New BEL Road              407\n",
       "Name: listed_in(city), dtype: int64"
      ]
     },
     "execution_count": 14,
     "metadata": {},
     "output_type": "execute_result"
    }
   ],
   "source": [
    "### Q - Q - ## Which Cities have online deliveries option?\n",
    "df[df['online_order'] == 'Yes']['listed_in(city)'].value_counts()"
   ]
  },
  {
   "cell_type": "code",
   "execution_count": 15,
   "metadata": {},
   "outputs": [
    {
     "data": {
      "text/plain": [
       "BTM                      1076\n",
       "Koramangala 7th Block    1072\n",
       "Koramangala 5th Block     996\n",
       "Lavelle Road              975\n",
       "Koramangala 4th Block     948\n",
       "MG Road                   930\n",
       "Church Street             896\n",
       "Residency Road            894\n",
       "Koramangala 6th Block     868\n",
       "Brigade Road              811\n",
       "Jayanagar                 747\n",
       "Whitefield                743\n",
       "Indiranagar               718\n",
       "JP Nagar                  693\n",
       "Marathahalli              679\n",
       "Electronic City           609\n",
       "Old Airport Road          593\n",
       "Bannerghatta Road         556\n",
       "Kammanahalli              528\n",
       "Rajajinagar               522\n",
       "HSR                       513\n",
       "Brookefield               507\n",
       "Kalyan Nagar              485\n",
       "Sarjapur Road             468\n",
       "Frazer Town               448\n",
       "Basavanagudi              427\n",
       "Malleshwaram              412\n",
       "Bellandur                 376\n",
       "New BEL Road              318\n",
       "Banashankari              290\n",
       "Name: listed_in(city), dtype: int64"
      ]
     },
     "execution_count": 15,
     "metadata": {},
     "output_type": "execute_result"
    }
   ],
   "source": [
    "df[df['online_order'] == 'No']['listed_in(city)'].value_counts()"
   ]
  },
  {
   "cell_type": "code",
   "execution_count": 16,
   "metadata": {},
   "outputs": [
    {
     "data": {
      "image/png": "[encoded data removed]",
      "text/plain": [
       "<Figure size 576x360 with 1 Axes>"
      ]
     },
     "metadata": {
      "needs_background": "light"
     },
     "output_type": "display_data"
    }
   ],
   "source": [
    "plt.figure(figsize=(8,5))\n",
    "sns.countplot(x=df.online_order,data=df)\n",
    "plt.show()"
   ]
  },
  {
   "cell_type": "markdown",
   "metadata": {},
   "source": [
    "#### Q - Which are the top 10 restaurants in Bengalore?"
   ]
  },
  {
   "cell_type": "code",
   "execution_count": 17,
   "metadata": {},
   "outputs": [
    {
     "data": {
      "text/plain": [
       "array(['Jalsa', 'Spice Elephant', 'San Churro Cafe', ..., 'Nawabs Empire',\n",
       "       'SeeYa Restaurant',\n",
       "       'Plunge - Sheraton Grand Bengaluru Whitefield Hotel &...'],\n",
       "      dtype=object)"
      ]
     },
     "execution_count": 17,
     "metadata": {},
     "output_type": "execute_result"
    }
   ],
   "source": [
    "df['name'].unique()"
   ]
  },
  {
   "cell_type": "code",
   "execution_count": 18,
   "metadata": {},
   "outputs": [
    {
     "data": {
      "text/plain": [
       "rate\n",
       "3.7    11596\n",
       "3.9     3972\n",
       "3.8     3873\n",
       "3.6     3316\n",
       "4.0     3183\n",
       "4.1     2948\n",
       "3.5     2784\n",
       "3.4     2476\n",
       "3.3     2310\n",
       "4.2     2184\n",
       "dtype: int64"
      ]
     },
     "execution_count": 18,
     "metadata": {},
     "output_type": "execute_result"
    }
   ],
   "source": [
    "df[['name','rate']].groupby(by=['rate']).size().nlargest(10) "
   ]
  },
  {
   "cell_type": "markdown",
   "metadata": {},
   "source": [
    "#### Q - Which are the top 10 locations ?"
   ]
  },
  {
   "cell_type": "code",
   "execution_count": 19,
   "metadata": {},
   "outputs": [
    {
     "data": {
      "image/png": "[encoded data removed]",
      "text/plain": [
       "<Figure size 1080x360 with 1 Axes>"
      ]
     },
     "metadata": {},
     "output_type": "display_data"
    }
   ],
   "source": [
    "plt.figure(figsize=(15,5))\n",
    "location = df['location'].value_counts().values\n",
    "labels = df['location'].value_counts(). index\n",
    "plt.pie(x=location[:10],labels=labels[:10],autopct='%1.2f%%')\n",
    "plt.show()"
   ]
  },
  {
   "cell_type": "markdown",
   "metadata": {},
   "source": [
    "- BTM, Koramangala (7th Block,5th Block,4th Block,6th Block) are top 5 locations"
   ]
  },
  {
   "cell_type": "code",
   "execution_count": 20,
   "metadata": {},
   "outputs": [
    {
     "name": "stdout",
     "output_type": "stream",
     "text": [
      "No. of restaurants accepting online orders: \n",
      " Yes    29342\n",
      "No     20098\n",
      "Name: online_order, dtype: int64\n"
     ]
    },
    {
     "data": {
      "image/png": "[encoded data removed]",
      "text/plain": [
       "<Figure size 576x360 with 1 Axes>"
      ]
     },
     "metadata": {
      "needs_background": "light"
     },
     "output_type": "display_data"
    }
   ],
   "source": [
    "plt.figure(figsize=(8,5))\n",
    "print(\"No. of restaurants accepting online orders: \\n\",df['online_order'].value_counts())\n",
    "sns.countplot(x=df['online_order'],data=df)\n",
    "plt.show() "
   ]
  },
  {
   "cell_type": "markdown",
   "metadata": {},
   "source": [
    "- 29342 restaurants accept online orders\n",
    "- 20098 restaurants do not accept online orders"
   ]
  },
  {
   "cell_type": "code",
   "execution_count": 21,
   "metadata": {},
   "outputs": [
    {
     "name": "stdout",
     "output_type": "stream",
     "text": [
      "No. of restaurants offer table booking facility: \n",
      " No     43120\n",
      "Yes     6320\n",
      "Name: book_table, dtype: int64\n"
     ]
    },
    {
     "data": {
      "image/png": "[encoded data removed]",
      "text/plain": [
       "<Figure size 576x360 with 1 Axes>"
      ]
     },
     "metadata": {
      "needs_background": "light"
     },
     "output_type": "display_data"
    }
   ],
   "source": [
    "plt.figure(figsize=(8,5))\n",
    "print(\"No. of restaurants offer table booking facility: \\n\",df['book_table'].value_counts())\n",
    "sns.countplot(x=df['book_table'],data=df)\n",
    "plt.show() "
   ]
  },
  {
   "cell_type": "markdown",
   "metadata": {},
   "source": [
    "- There are total 43120 restaurants who do not allow to book the table\n",
    "- Only 6320 restaurants have table booking facilty"
   ]
  },
  {
   "cell_type": "code",
   "execution_count": 22,
   "metadata": {},
   "outputs": [
    {
     "data": {
      "text/plain": [
       "Delivery              24728\n",
       "Dine-out              17008\n",
       "Desserts               3453\n",
       "Cafes                  1645\n",
       "Drinks & nightlife     1073\n",
       "Buffet                  864\n",
       "Pubs and bars           669\n",
       "Name: listed_in(type), dtype: int64"
      ]
     },
     "execution_count": 22,
     "metadata": {},
     "output_type": "execute_result"
    }
   ],
   "source": [
    "type = df['listed_in(type)'].value_counts()\n",
    "type"
   ]
  },
  {
   "cell_type": "code",
   "execution_count": 23,
   "metadata": {},
   "outputs": [
    {
     "name": "stdout",
     "output_type": "stream",
     "text": [
      "Types of Restaurants in Bengaluru: \n",
      "Delivery              24728\n",
      "Dine-out              17008\n",
      "Desserts               3453\n",
      "Cafes                  1645\n",
      "Drinks & nightlife     1073\n",
      "Buffet                  864\n",
      "Pubs and bars           669\n",
      "Name: listed_in(type), dtype: int64\n"
     ]
    },
    {
     "data": {
      "image/png": "[encoded data removed]",
      "text/plain": [
       "<Figure size 576x360 with 1 Axes>"
      ]
     },
     "metadata": {
      "needs_background": "light"
     },
     "output_type": "display_data"
    }
   ],
   "source": [
    "plt.figure(figsize=(8,5))\n",
    "type = df['listed_in(type)'].value_counts()\n",
    "print(\"Types of Restaurants in Bengaluru: \")\n",
    "print(type)\n",
    "sns.barplot(y=type.values,x=type.index,data=df)\n",
    "plt.show() "
   ]
  },
  {
   "cell_type": "markdown",
   "metadata": {},
   "source": [
    "- Bengaluru being the tech capital of India, majority people love to order online food."
   ]
  },
  {
   "cell_type": "markdown",
   "metadata": {},
   "source": [
    "#### Q -  Which are the most common cuisins? "
   ]
  },
  {
   "cell_type": "code",
   "execution_count": 24,
   "metadata": {},
   "outputs": [
    {
     "data": {
      "image/png": "[encoded data removed]",
      "text/plain": [
       "<Figure size 1080x576 with 1 Axes>"
      ]
     },
     "metadata": {
      "needs_background": "light"
     },
     "output_type": "display_data"
    }
   ],
   "source": [
    "plt.figure(figsize=(15,8))\n",
    "favorate_cuisine = df.groupby(['location','cuisines']).size().reset_index().rename(columns={0:'Count'})\n",
    "favorate_cuisine_top_10 = favorate_cuisine.head(10)\n",
    "sns.barplot(y='Count',x='cuisines',data=favorate_cuisine_top_10,errwidth=0.2)\n",
    "plt.xticks(rotation = 45)\n",
    "plt.show()"
   ]
  },
  {
   "cell_type": "code",
   "execution_count": 25,
   "metadata": {},
   "outputs": [
    {
     "data": {
      "image/png": "[encoded data removed]",
      "text/plain": [
       "<Figure size 1080x576 with 1 Axes>"
      ]
     },
     "metadata": {
      "needs_background": "light"
     },
     "output_type": "display_data"
    }
   ],
   "source": [
    "plt.figure(figsize=(15,8))\n",
    "top_10_famous_restaurants=df['name'].value_counts()[:10]\n",
    "sns.barplot(x=top_10_famous_restaurants.index,y=top_10_famous_restaurants,palette='Set1')\n",
    "plt.title(\"Most famous restaurants in Bangaluru\",size=10)\n",
    "plt.xticks(rotation = 45)\n",
    "plt.show()"
   ]
  },
  {
   "cell_type": "code",
   "execution_count": 26,
   "metadata": {},
   "outputs": [
    {
     "data": {
      "image/png": "[encoded data removed]",
      "text/plain": [
       "<Figure size 1080x576 with 1 Axes>"
      ]
     },
     "metadata": {
      "needs_background": "light"
     },
     "output_type": "display_data"
    }
   ],
   "source": [
    "plt.figure(figsize=(15,8))\n",
    "top_10_dishes=df['dish_liked'].value_counts()[:10]\n",
    "sns.barplot(x=top_10_dishes.index,y=top_10_dishes,palette='Set1')\n",
    "plt.title(\"Top 10 dishes in Bangaluru\",size=10)\n",
    "plt.xticks(rotation = 45)\n",
    "plt.show()"
   ]
  },
  {
   "cell_type": "code",
   "execution_count": 27,
   "metadata": {},
   "outputs": [
    {
     "data": {
      "image/png": "[encoded data removed]",
      "text/plain": [
       "<Figure size 1080x576 with 1 Axes>"
      ]
     },
     "metadata": {
      "needs_background": "light"
     },
     "output_type": "display_data"
    }
   ],
   "source": [
    "plt.figure(figsize=(15,8))\n",
    "top_10_restaurant_types=df['rest_type'].value_counts()[:10]\n",
    "sns.barplot(x=top_10_restaurant_types.index,y=top_10_restaurant_types,palette='Set1')\n",
    "plt.title(\"Top 10 restaurant types in Bangaluru\",size=10)\n",
    "plt.xticks(rotation = 45)\n",
    "plt.show()"
   ]
  },
  {
   "cell_type": "code",
   "execution_count": 28,
   "metadata": {},
   "outputs": [
    {
     "name": "stdout",
     "output_type": "stream",
     "text": [
      "<class 'pandas.core.frame.DataFrame'>\n",
      "RangeIndex: 49440 entries, 0 to 49439\n",
      "Data columns (total 14 columns):\n",
      " #   Column                       Non-Null Count  Dtype  \n",
      "---  ------                       --------------  -----  \n",
      " 0   name                         49440 non-null  object \n",
      " 1   online_order                 49440 non-null  object \n",
      " 2   book_table                   49440 non-null  object \n",
      " 3   rate                         49440 non-null  float64\n",
      " 4   votes                        49440 non-null  int64  \n",
      " 5   location                     49419 non-null  object \n",
      " 6   rest_type                    49215 non-null  object \n",
      " 7   dish_liked                   23492 non-null  object \n",
      " 8   cuisines                     49395 non-null  object \n",
      " 9   approx_cost(for two people)  49099 non-null  float64\n",
      " 10  reviews_list                 49440 non-null  object \n",
      " 11  menu_item                    49440 non-null  object \n",
      " 12  listed_in(type)              49440 non-null  object \n",
      " 13  listed_in(city)              49440 non-null  object \n",
      "dtypes: float64(2), int64(1), object(11)\n",
      "memory usage: 5.3+ MB\n"
     ]
    }
   ],
   "source": [
    "df.info()"
   ]
  },
  {
   "cell_type": "code",
   "execution_count": 29,
   "metadata": {},
   "outputs": [
    {
     "data": {
      "text/plain": [
       "53"
      ]
     },
     "execution_count": 29,
     "metadata": {},
     "output_type": "execute_result"
    }
   ],
   "source": [
    "df.duplicated().sum()"
   ]
  },
  {
   "cell_type": "code",
   "execution_count": 30,
   "metadata": {},
   "outputs": [],
   "source": [
    "df.drop_duplicates(inplace=True)"
   ]
  },
  {
   "cell_type": "code",
   "execution_count": 31,
   "metadata": {},
   "outputs": [
    {
     "data": {
      "text/plain": [
       "name                               0\n",
       "online_order                       0\n",
       "book_table                         0\n",
       "rate                               0\n",
       "votes                              0\n",
       "location                          21\n",
       "rest_type                        225\n",
       "dish_liked                     25907\n",
       "cuisines                          45\n",
       "approx_cost(for two people)      340\n",
       "reviews_list                       0\n",
       "menu_item                          0\n",
       "listed_in(type)                    0\n",
       "listed_in(city)                    0\n",
       "dtype: int64"
      ]
     },
     "execution_count": 31,
     "metadata": {},
     "output_type": "execute_result"
    }
   ],
   "source": [
    "df.isnull().sum()"
   ]
  },
  {
   "cell_type": "code",
   "execution_count": 32,
   "metadata": {},
   "outputs": [],
   "source": [
    "df.dropna(how='any',inplace=True)"
   ]
  },
  {
   "cell_type": "code",
   "execution_count": 33,
   "metadata": {},
   "outputs": [],
   "source": [
    "df.online_order.replace(('Yes','No'),(True,False),inplace=True)\n",
    "df.book_table.replace(('Yes','No'),(True,False),inplace=True)"
   ]
  },
  {
   "cell_type": "code",
   "execution_count": 34,
   "metadata": {},
   "outputs": [],
   "source": [
    "# Lower case convesrion of the reviews text\n",
    "df['reviews_list'] = df['reviews_list'].str.lower()"
   ]
  },
  {
   "cell_type": "code",
   "execution_count": 35,
   "metadata": {},
   "outputs": [
    {
     "data": {
      "text/plain": [
       "0    rated 40 ratedn  a beautiful place to dine int...\n",
       "1    rated 40 ratedn  had been here for dinner with...\n",
       "2    rated 30 ratedn  ambience is not that good eno...\n",
       "Name: reviews_list, dtype: object"
      ]
     },
     "execution_count": 35,
     "metadata": {},
     "output_type": "execute_result"
    }
   ],
   "source": [
    "# Remove Punctuation\n",
    "import string\n",
    "\n",
    "puntuation_to_remove = string.punctuation\n",
    "\n",
    "def remove_punctuation(text):\n",
    "    return text.translate(str.maketrans('','',puntuation_to_remove))\n",
    "df['reviews_list'] = df['reviews_list'] .apply(lambda text:remove_punctuation(text))\n",
    "df['reviews_list'].head(3)"
   ]
  },
  {
   "cell_type": "code",
   "execution_count": 36,
   "metadata": {},
   "outputs": [
    {
     "data": {
      "text/plain": [
       "0    rated 40 ratedn beautiful place dine inthe int...\n",
       "1    rated 40 ratedn dinner family turned good choo...\n",
       "2    rated 30 ratedn ambience good enough pocket fr...\n",
       "Name: reviews_list, dtype: object"
      ]
     },
     "execution_count": 36,
     "metadata": {},
     "output_type": "execute_result"
    }
   ],
   "source": [
    "# Remove Stopwords\n",
    "from nltk.corpus import stopwords\n",
    "STOPWORDS = set(stopwords.words('english'))\n",
    "def remove_stopwords(text):\n",
    "    return \" \".join([word for word in(text).split() if word not in STOPWORDS])\n",
    "df['reviews_list'] = df['reviews_list'].apply(lambda text:remove_stopwords(text))\n",
    "df['reviews_list'].head(3)"
   ]
  },
  {
   "cell_type": "code",
   "execution_count": 37,
   "metadata": {},
   "outputs": [
    {
     "data": {
      "text/plain": [
       "0    rated 40 ratedn beautiful place dine inthe int...\n",
       "1    rated 40 ratedn dinner family turned good choo...\n",
       "2    rated 30 ratedn ambience good enough pocket fr...\n",
       "3    rated 40 ratedn great food proper karnataka st...\n",
       "4    rated 40 ratedn good restaurant neighbourhood ...\n",
       "Name: reviews_list, dtype: object"
      ]
     },
     "execution_count": 37,
     "metadata": {},
     "output_type": "execute_result"
    }
   ],
   "source": [
    "import re\n",
    "# Remove URLs from 'reviews_list'\n",
    "def remove_urls(text):\n",
    "    url_pattern = re.compile(r'https?://\\S+|www\\.\\S+')\n",
    "    return url_pattern.sub(r'',text)\n",
    "df['reviews_list'] = df['reviews_list'].apply(lambda text:remove_urls(text))\n",
    "df['reviews_list'].head(5)"
   ]
  },
  {
   "cell_type": "code",
   "execution_count": 38,
   "metadata": {},
   "outputs": [
    {
     "data": {
      "text/plain": [
       "Index(['name', 'online_order', 'book_table', 'rate', 'votes', 'location',\n",
       "       'rest_type', 'dish_liked', 'cuisines', 'approx_cost(for two people)',\n",
       "       'reviews_list', 'menu_item', 'listed_in(type)', 'listed_in(city)'],\n",
       "      dtype='object')"
      ]
     },
     "execution_count": 38,
     "metadata": {},
     "output_type": "execute_result"
    }
   ],
   "source": [
    "df.columns"
   ]
  },
  {
   "cell_type": "code",
   "execution_count": 39,
   "metadata": {},
   "outputs": [
    {
     "data": {
      "text/plain": [
       "(11638, 10)"
      ]
     },
     "execution_count": 39,
     "metadata": {},
     "output_type": "execute_result"
    }
   ],
   "source": [
    "# Drop unnecessary columns\n",
    "df=df.drop(['votes','rest_type', 'dish_liked','menu_item'],axis=1)\n",
    "# Take sample of dataframe\n",
    "df_percent = df.sample(frac=0.5)\n",
    "df_percent.shape"
   ]
  },
  {
   "cell_type": "code",
   "execution_count": 40,
   "metadata": {},
   "outputs": [],
   "source": [
    "restaurants = list(df['name'].unique())\n",
    "def get_top_words(column,top_nu_of_words,nu_of_word):\n",
    "    vec = COuntVectorizer(ngram_range = nu_of_word,stop_words='english')\n",
    "    bag_of_words = vec.fit_transform(column)\n",
    "    sum_words = bag_of_words.sum(axis=0)\n",
    "    word_freq = [(word,sum_words[0,idx]) for word, idx in vec.vocabulary_.items()]\n",
    "    word_freq = sorted(words_freq,key = lambda x:x[1],reverese=True)\n",
    "    return words_freq[:top_nu_of_words]       "
   ]
  },
  {
   "cell_type": "markdown",
   "metadata": {},
   "source": [
    "#### TF-IDF Vectorization\n",
    "- TF-IDF (Term Frequency-Inverse Document Frequency) vectors for each document. This will give you a matrix where each column represents a word in the general vocabulary (all words that appear in at least one document) and each column represents a restaurant, as before.\n",
    "\n",
    "- TF-IDF is the statistical method of assessing the meaning of a word in a given document. Now, I will use the TF-IDF vectorization on the dataset: \n",
    " "
   ]
  },
  {
   "cell_type": "code",
   "execution_count": 41,
   "metadata": {},
   "outputs": [
    {
     "data": {
      "text/html": [
       "<div>\n",
       "<style scoped>\n",
       "    .dataframe tbody tr th:only-of-type {\n",
       "        vertical-align: middle;\n",
       "    }\n",
       "\n",
       "    .dataframe tbody tr th {\n",
       "        vertical-align: top;\n",
       "    }\n",
       "\n",
       "    .dataframe thead th {\n",
       "        text-align: right;\n",
       "    }\n",
       "</style>\n",
       "<table border=\"1\" class=\"dataframe\">\n",
       "  <thead>\n",
       "    <tr style=\"text-align: right;\">\n",
       "      <th></th>\n",
       "      <th>name</th>\n",
       "      <th>online_order</th>\n",
       "      <th>book_table</th>\n",
       "      <th>rate</th>\n",
       "      <th>location</th>\n",
       "      <th>cuisines</th>\n",
       "      <th>approx_cost(for two people)</th>\n",
       "      <th>reviews_list</th>\n",
       "      <th>listed_in(type)</th>\n",
       "      <th>listed_in(city)</th>\n",
       "    </tr>\n",
       "  </thead>\n",
       "  <tbody>\n",
       "    <tr>\n",
       "      <th>16127</th>\n",
       "      <td>Biriyani Zone</td>\n",
       "      <td>True</td>\n",
       "      <td>False</td>\n",
       "      <td>3.9</td>\n",
       "      <td>HSR</td>\n",
       "      <td>Biryani, North Indian, Chinese, Seafood</td>\n",
       "      <td>800.0</td>\n",
       "      <td>rated 40 ratedn hyderabadi chicken biryani mus...</td>\n",
       "      <td>Dine-out</td>\n",
       "      <td>HSR</td>\n",
       "    </tr>\n",
       "    <tr>\n",
       "      <th>4852</th>\n",
       "      <td>No 10 Fort Cochin</td>\n",
       "      <td>True</td>\n",
       "      <td>True</td>\n",
       "      <td>3.8</td>\n",
       "      <td>St. Marks Road</td>\n",
       "      <td>Biryani, Kerala, Seafood, South Indian</td>\n",
       "      <td>800.0</td>\n",
       "      <td>rated 20 ratedn mutton curry mostly bone grist...</td>\n",
       "      <td>Delivery</td>\n",
       "      <td>Brigade Road</td>\n",
       "    </tr>\n",
       "    <tr>\n",
       "      <th>45176</th>\n",
       "      <td>The Culinarium</td>\n",
       "      <td>False</td>\n",
       "      <td>False</td>\n",
       "      <td>4.0</td>\n",
       "      <td>Vasanth Nagar</td>\n",
       "      <td>Cafe, Desserts, Beverages</td>\n",
       "      <td>1100.0</td>\n",
       "      <td>rated 40 ratedn went vegan ice cream ordered c...</td>\n",
       "      <td>Cafes</td>\n",
       "      <td>Residency Road</td>\n",
       "    </tr>\n",
       "  </tbody>\n",
       "</table>\n",
       "</div>"
      ],
      "text/plain": [
       "                    name  online_order  book_table  rate        location  \\\n",
       "16127      Biriyani Zone          True       False   3.9             HSR   \n",
       "4852   No 10 Fort Cochin          True        True   3.8  St. Marks Road   \n",
       "45176     The Culinarium         False       False   4.0   Vasanth Nagar   \n",
       "\n",
       "                                      cuisines  approx_cost(for two people)  \\\n",
       "16127  Biryani, North Indian, Chinese, Seafood                        800.0   \n",
       "4852    Biryani, Kerala, Seafood, South Indian                        800.0   \n",
       "45176                Cafe, Desserts, Beverages                       1100.0   \n",
       "\n",
       "                                            reviews_list listed_in(type)  \\\n",
       "16127  rated 40 ratedn hyderabadi chicken biryani mus...        Dine-out   \n",
       "4852   rated 20 ratedn mutton curry mostly bone grist...        Delivery   \n",
       "45176  rated 40 ratedn went vegan ice cream ordered c...           Cafes   \n",
       "\n",
       "      listed_in(city)  \n",
       "16127             HSR  \n",
       "4852     Brigade Road  \n",
       "45176  Residency Road  "
      ]
     },
     "execution_count": 41,
     "metadata": {},
     "output_type": "execute_result"
    }
   ],
   "source": [
    "df_percent.head(3)"
   ]
  },
  {
   "cell_type": "code",
   "execution_count": 42,
   "metadata": {},
   "outputs": [],
   "source": [
    "df_percent.set_index('name', inplace=True)"
   ]
  },
  {
   "cell_type": "code",
   "execution_count": 43,
   "metadata": {},
   "outputs": [
    {
     "data": {
      "text/html": [
       "<div>\n",
       "<style scoped>\n",
       "    .dataframe tbody tr th:only-of-type {\n",
       "        vertical-align: middle;\n",
       "    }\n",
       "\n",
       "    .dataframe tbody tr th {\n",
       "        vertical-align: top;\n",
       "    }\n",
       "\n",
       "    .dataframe thead th {\n",
       "        text-align: right;\n",
       "    }\n",
       "</style>\n",
       "<table border=\"1\" class=\"dataframe\">\n",
       "  <thead>\n",
       "    <tr style=\"text-align: right;\">\n",
       "      <th></th>\n",
       "      <th>online_order</th>\n",
       "      <th>book_table</th>\n",
       "      <th>rate</th>\n",
       "      <th>location</th>\n",
       "      <th>cuisines</th>\n",
       "      <th>approx_cost(for two people)</th>\n",
       "      <th>reviews_list</th>\n",
       "      <th>listed_in(type)</th>\n",
       "      <th>listed_in(city)</th>\n",
       "    </tr>\n",
       "    <tr>\n",
       "      <th>name</th>\n",
       "      <th></th>\n",
       "      <th></th>\n",
       "      <th></th>\n",
       "      <th></th>\n",
       "      <th></th>\n",
       "      <th></th>\n",
       "      <th></th>\n",
       "      <th></th>\n",
       "      <th></th>\n",
       "    </tr>\n",
       "  </thead>\n",
       "  <tbody>\n",
       "    <tr>\n",
       "      <th>Biriyani Zone</th>\n",
       "      <td>True</td>\n",
       "      <td>False</td>\n",
       "      <td>3.9</td>\n",
       "      <td>HSR</td>\n",
       "      <td>Biryani, North Indian, Chinese, Seafood</td>\n",
       "      <td>800.0</td>\n",
       "      <td>rated 40 ratedn hyderabadi chicken biryani mus...</td>\n",
       "      <td>Dine-out</td>\n",
       "      <td>HSR</td>\n",
       "    </tr>\n",
       "    <tr>\n",
       "      <th>No 10 Fort Cochin</th>\n",
       "      <td>True</td>\n",
       "      <td>True</td>\n",
       "      <td>3.8</td>\n",
       "      <td>St. Marks Road</td>\n",
       "      <td>Biryani, Kerala, Seafood, South Indian</td>\n",
       "      <td>800.0</td>\n",
       "      <td>rated 20 ratedn mutton curry mostly bone grist...</td>\n",
       "      <td>Delivery</td>\n",
       "      <td>Brigade Road</td>\n",
       "    </tr>\n",
       "    <tr>\n",
       "      <th>The Culinarium</th>\n",
       "      <td>False</td>\n",
       "      <td>False</td>\n",
       "      <td>4.0</td>\n",
       "      <td>Vasanth Nagar</td>\n",
       "      <td>Cafe, Desserts, Beverages</td>\n",
       "      <td>1100.0</td>\n",
       "      <td>rated 40 ratedn went vegan ice cream ordered c...</td>\n",
       "      <td>Cafes</td>\n",
       "      <td>Residency Road</td>\n",
       "    </tr>\n",
       "    <tr>\n",
       "      <th>Cafe Cassia&amp; Deli</th>\n",
       "      <td>False</td>\n",
       "      <td>False</td>\n",
       "      <td>4.2</td>\n",
       "      <td>Ulsoor</td>\n",
       "      <td>Lebanese, Mediterranean, Cafe</td>\n",
       "      <td>1000.0</td>\n",
       "      <td>rated 50 ratedn beautifully designed little ca...</td>\n",
       "      <td>Cafes</td>\n",
       "      <td>Lavelle Road</td>\n",
       "    </tr>\n",
       "    <tr>\n",
       "      <th>Mani's Dum Biryani</th>\n",
       "      <td>True</td>\n",
       "      <td>False</td>\n",
       "      <td>3.9</td>\n",
       "      <td>Koramangala 1st Block</td>\n",
       "      <td>Biryani</td>\n",
       "      <td>750.0</td>\n",
       "      <td>rated 40 ratedn awesome biriyani restaurant lo...</td>\n",
       "      <td>Delivery</td>\n",
       "      <td>Koramangala 4th Block</td>\n",
       "    </tr>\n",
       "    <tr>\n",
       "      <th>...</th>\n",
       "      <td>...</td>\n",
       "      <td>...</td>\n",
       "      <td>...</td>\n",
       "      <td>...</td>\n",
       "      <td>...</td>\n",
       "      <td>...</td>\n",
       "      <td>...</td>\n",
       "      <td>...</td>\n",
       "      <td>...</td>\n",
       "    </tr>\n",
       "    <tr>\n",
       "      <th>Cauvery Hyderabadi Biriyani</th>\n",
       "      <td>False</td>\n",
       "      <td>False</td>\n",
       "      <td>3.8</td>\n",
       "      <td>Marathahalli</td>\n",
       "      <td>North Indian, Chinese</td>\n",
       "      <td>600.0</td>\n",
       "      <td>rated 30 ratedn summary decent enough food ok ...</td>\n",
       "      <td>Delivery</td>\n",
       "      <td>Bellandur</td>\n",
       "    </tr>\n",
       "    <tr>\n",
       "      <th>Hi Seoul</th>\n",
       "      <td>True</td>\n",
       "      <td>False</td>\n",
       "      <td>4.1</td>\n",
       "      <td>Kalyan Nagar</td>\n",
       "      <td>Korean</td>\n",
       "      <td>800.0</td>\n",
       "      <td>rated 10 ratedn youre vegetarian looking order...</td>\n",
       "      <td>Delivery</td>\n",
       "      <td>Kammanahalli</td>\n",
       "    </tr>\n",
       "    <tr>\n",
       "      <th>Oye Amritsar</th>\n",
       "      <td>True</td>\n",
       "      <td>True</td>\n",
       "      <td>3.8</td>\n",
       "      <td>JP Nagar</td>\n",
       "      <td>North Indian</td>\n",
       "      <td>600.0</td>\n",
       "      <td>rated 40 ratedn place one best puniabi food ba...</td>\n",
       "      <td>Delivery</td>\n",
       "      <td>BTM</td>\n",
       "    </tr>\n",
       "    <tr>\n",
       "      <th>Based On A True Story- Bistro</th>\n",
       "      <td>True</td>\n",
       "      <td>True</td>\n",
       "      <td>4.3</td>\n",
       "      <td>Kammanahalli</td>\n",
       "      <td>Cafe, Burger, Italian, Desserts</td>\n",
       "      <td>800.0</td>\n",
       "      <td>rated 40 ratedn im movie buff love decor cosy ...</td>\n",
       "      <td>Desserts</td>\n",
       "      <td>Kalyan Nagar</td>\n",
       "    </tr>\n",
       "    <tr>\n",
       "      <th>Punjabi Kitchen</th>\n",
       "      <td>True</td>\n",
       "      <td>False</td>\n",
       "      <td>3.6</td>\n",
       "      <td>Whitefield</td>\n",
       "      <td>Chinese, North Indian</td>\n",
       "      <td>400.0</td>\n",
       "      <td>rated 40 ratedn one places around offer thali ...</td>\n",
       "      <td>Delivery</td>\n",
       "      <td>Whitefield</td>\n",
       "    </tr>\n",
       "  </tbody>\n",
       "</table>\n",
       "<p>11638 rows × 9 columns</p>\n",
       "</div>"
      ],
      "text/plain": [
       "                               online_order  book_table  rate  \\\n",
       "name                                                            \n",
       "Biriyani Zone                          True       False   3.9   \n",
       "No 10 Fort Cochin                      True        True   3.8   \n",
       "The Culinarium                        False       False   4.0   \n",
       "Cafe Cassia& Deli                     False       False   4.2   \n",
       "Mani's Dum Biryani                     True       False   3.9   \n",
       "...                                     ...         ...   ...   \n",
       "Cauvery Hyderabadi Biriyani           False       False   3.8   \n",
       "Hi Seoul                               True       False   4.1   \n",
       "Oye Amritsar                           True        True   3.8   \n",
       "Based On A True Story- Bistro          True        True   4.3   \n",
       "Punjabi Kitchen                        True       False   3.6   \n",
       "\n",
       "                                            location  \\\n",
       "name                                                   \n",
       "Biriyani Zone                                    HSR   \n",
       "No 10 Fort Cochin                     St. Marks Road   \n",
       "The Culinarium                         Vasanth Nagar   \n",
       "Cafe Cassia& Deli                             Ulsoor   \n",
       "Mani's Dum Biryani             Koramangala 1st Block   \n",
       "...                                              ...   \n",
       "Cauvery Hyderabadi Biriyani             Marathahalli   \n",
       "Hi Seoul                                Kalyan Nagar   \n",
       "Oye Amritsar                                JP Nagar   \n",
       "Based On A True Story- Bistro           Kammanahalli   \n",
       "Punjabi Kitchen                           Whitefield   \n",
       "\n",
       "                                                              cuisines  \\\n",
       "name                                                                     \n",
       "Biriyani Zone                  Biryani, North Indian, Chinese, Seafood   \n",
       "No 10 Fort Cochin               Biryani, Kerala, Seafood, South Indian   \n",
       "The Culinarium                               Cafe, Desserts, Beverages   \n",
       "Cafe Cassia& Deli                        Lebanese, Mediterranean, Cafe   \n",
       "Mani's Dum Biryani                                             Biryani   \n",
       "...                                                                ...   \n",
       "Cauvery Hyderabadi Biriyani                      North Indian, Chinese   \n",
       "Hi Seoul                                                        Korean   \n",
       "Oye Amritsar                                              North Indian   \n",
       "Based On A True Story- Bistro          Cafe, Burger, Italian, Desserts   \n",
       "Punjabi Kitchen                                  Chinese, North Indian   \n",
       "\n",
       "                               approx_cost(for two people)  \\\n",
       "name                                                         \n",
       "Biriyani Zone                                        800.0   \n",
       "No 10 Fort Cochin                                    800.0   \n",
       "The Culinarium                                      1100.0   \n",
       "Cafe Cassia& Deli                                   1000.0   \n",
       "Mani's Dum Biryani                                   750.0   \n",
       "...                                                    ...   \n",
       "Cauvery Hyderabadi Biriyani                          600.0   \n",
       "Hi Seoul                                             800.0   \n",
       "Oye Amritsar                                         600.0   \n",
       "Based On A True Story- Bistro                        800.0   \n",
       "Punjabi Kitchen                                      400.0   \n",
       "\n",
       "                                                                    reviews_list  \\\n",
       "name                                                                               \n",
       "Biriyani Zone                  rated 40 ratedn hyderabadi chicken biryani mus...   \n",
       "No 10 Fort Cochin              rated 20 ratedn mutton curry mostly bone grist...   \n",
       "The Culinarium                 rated 40 ratedn went vegan ice cream ordered c...   \n",
       "Cafe Cassia& Deli              rated 50 ratedn beautifully designed little ca...   \n",
       "Mani's Dum Biryani             rated 40 ratedn awesome biriyani restaurant lo...   \n",
       "...                                                                          ...   \n",
       "Cauvery Hyderabadi Biriyani    rated 30 ratedn summary decent enough food ok ...   \n",
       "Hi Seoul                       rated 10 ratedn youre vegetarian looking order...   \n",
       "Oye Amritsar                   rated 40 ratedn place one best puniabi food ba...   \n",
       "Based On A True Story- Bistro  rated 40 ratedn im movie buff love decor cosy ...   \n",
       "Punjabi Kitchen                rated 40 ratedn one places around offer thali ...   \n",
       "\n",
       "                              listed_in(type)        listed_in(city)  \n",
       "name                                                                  \n",
       "Biriyani Zone                        Dine-out                    HSR  \n",
       "No 10 Fort Cochin                    Delivery           Brigade Road  \n",
       "The Culinarium                          Cafes         Residency Road  \n",
       "Cafe Cassia& Deli                       Cafes           Lavelle Road  \n",
       "Mani's Dum Biryani                   Delivery  Koramangala 4th Block  \n",
       "...                                       ...                    ...  \n",
       "Cauvery Hyderabadi Biriyani          Delivery              Bellandur  \n",
       "Hi Seoul                             Delivery           Kammanahalli  \n",
       "Oye Amritsar                         Delivery                    BTM  \n",
       "Based On A True Story- Bistro        Desserts           Kalyan Nagar  \n",
       "Punjabi Kitchen                      Delivery             Whitefield  \n",
       "\n",
       "[11638 rows x 9 columns]"
      ]
     },
     "execution_count": 43,
     "metadata": {},
     "output_type": "execute_result"
    }
   ],
   "source": [
    "df_percent"
   ]
  },
  {
   "cell_type": "code",
   "execution_count": 44,
   "metadata": {},
   "outputs": [
    {
     "data": {
      "text/plain": [
       "0                        Biriyani Zone\n",
       "1                    No 10 Fort Cochin\n",
       "2                       The Culinarium\n",
       "3                    Cafe Cassia& Deli\n",
       "4                   Mani's Dum Biryani\n",
       "                     ...              \n",
       "11633      Cauvery Hyderabadi Biriyani\n",
       "11634                         Hi Seoul\n",
       "11635                     Oye Amritsar\n",
       "11636    Based On A True Story- Bistro\n",
       "11637                  Punjabi Kitchen\n",
       "Name: name, Length: 11638, dtype: object"
      ]
     },
     "execution_count": 44,
     "metadata": {},
     "output_type": "execute_result"
    }
   ],
   "source": [
    "indices = pd.Series(df_percent.index)\n",
    "indices"
   ]
  },
  {
   "cell_type": "code",
   "execution_count": 45,
   "metadata": {},
   "outputs": [],
   "source": [
    "from sklearn.feature_extraction.text import TfidfVectorizer\n",
    "from sklearn.metrics.pairwise import linear_kernel\n",
    "\n",
    "tfidf = TfidfVectorizer(analyzer='word',ngram_range=(1,2),min_df=0,stop_words='english')\n",
    "tfidf_matrix = tfidf.fit_transform(df_percent['reviews_list'])\n",
    "\n",
    "cosine_similarities = linear_kernel(tfidf_matrix,tfidf_matrix)"
   ]
  },
  {
   "cell_type": "markdown",
   "metadata": {},
   "source": [
    "#### Function to recommend Restaurants"
   ]
  },
  {
   "cell_type": "code",
   "execution_count": 46,
   "metadata": {},
   "outputs": [
    {
     "name": "stdout",
     "output_type": "stream",
     "text": [
      "TOP 8 RESTAURANTS LIKE Taj Hotel WITH SIMILAR REVIEWS: \n"
     ]
    },
    {
     "data": {
      "text/html": [
       "<div>\n",
       "<style scoped>\n",
       "    .dataframe tbody tr th:only-of-type {\n",
       "        vertical-align: middle;\n",
       "    }\n",
       "\n",
       "    .dataframe tbody tr th {\n",
       "        vertical-align: top;\n",
       "    }\n",
       "\n",
       "    .dataframe thead th {\n",
       "        text-align: right;\n",
       "    }\n",
       "</style>\n",
       "<table border=\"1\" class=\"dataframe\">\n",
       "  <thead>\n",
       "    <tr style=\"text-align: right;\">\n",
       "      <th></th>\n",
       "      <th>cuisines</th>\n",
       "      <th>rate</th>\n",
       "      <th>approx_cost(for two people)</th>\n",
       "    </tr>\n",
       "  </thead>\n",
       "  <tbody>\n",
       "    <tr>\n",
       "      <th>Hammered</th>\n",
       "      <td>North Indian, Thai, Japanese, Continental, Cafe</td>\n",
       "      <td>4.7</td>\n",
       "      <td>1300.0</td>\n",
       "    </tr>\n",
       "    <tr>\n",
       "      <th>Koramangala Social</th>\n",
       "      <td>American, North Indian, Chinese, Finger Food</td>\n",
       "      <td>4.6</td>\n",
       "      <td>1500.0</td>\n",
       "    </tr>\n",
       "    <tr>\n",
       "      <th>Meghana Foods</th>\n",
       "      <td>Biryani, Seafood, Andhra, North Indian</td>\n",
       "      <td>4.4</td>\n",
       "      <td>600.0</td>\n",
       "    </tr>\n",
       "    <tr>\n",
       "      <th>Hammered</th>\n",
       "      <td>North Indian, Continental, Cafe</td>\n",
       "      <td>4.4</td>\n",
       "      <td>1200.0</td>\n",
       "    </tr>\n",
       "    <tr>\n",
       "      <th>Hammered</th>\n",
       "      <td>North Indian, South Indian, Continental, Asian</td>\n",
       "      <td>4.3</td>\n",
       "      <td>1200.0</td>\n",
       "    </tr>\n",
       "    <tr>\n",
       "      <th>Meghana Foods</th>\n",
       "      <td>Biryani, Chinese, North Indian, Seafood</td>\n",
       "      <td>4.2</td>\n",
       "      <td>750.0</td>\n",
       "    </tr>\n",
       "    <tr>\n",
       "      <th>Hoot</th>\n",
       "      <td>Continental, Italian, North Indian</td>\n",
       "      <td>4.2</td>\n",
       "      <td>1400.0</td>\n",
       "    </tr>\n",
       "    <tr>\n",
       "      <th>Cafe Azzure</th>\n",
       "      <td>Cafe, Continental, Italian, Burger</td>\n",
       "      <td>4.2</td>\n",
       "      <td>1200.0</td>\n",
       "    </tr>\n",
       "  </tbody>\n",
       "</table>\n",
       "</div>"
      ],
      "text/plain": [
       "                                                           cuisines  rate  \\\n",
       "Hammered            North Indian, Thai, Japanese, Continental, Cafe   4.7   \n",
       "Koramangala Social     American, North Indian, Chinese, Finger Food   4.6   \n",
       "Meghana Foods                Biryani, Seafood, Andhra, North Indian   4.4   \n",
       "Hammered                            North Indian, Continental, Cafe   4.4   \n",
       "Hammered             North Indian, South Indian, Continental, Asian   4.3   \n",
       "Meghana Foods               Biryani, Chinese, North Indian, Seafood   4.2   \n",
       "Hoot                             Continental, Italian, North Indian   4.2   \n",
       "Cafe Azzure                      Cafe, Continental, Italian, Burger   4.2   \n",
       "\n",
       "                    approx_cost(for two people)  \n",
       "Hammered                                 1300.0  \n",
       "Koramangala Social                       1500.0  \n",
       "Meghana Foods                             600.0  \n",
       "Hammered                                 1200.0  \n",
       "Hammered                                 1200.0  \n",
       "Meghana Foods                             750.0  \n",
       "Hoot                                     1400.0  \n",
       "Cafe Azzure                              1200.0  "
      ]
     },
     "execution_count": 46,
     "metadata": {},
     "output_type": "execute_result"
    }
   ],
   "source": [
    "def recommend(name,cosine_similarities = cosine_similarities):\n",
    "    recommnend_restaurants = []  #list of restaurants to recommend\n",
    "    idx = indices[indices==name].index[0]\n",
    "    score_series = pd.Series(cosine_similarities[idx]).sort_values(ascending=False) # # Find the restaurants with a similar cosine-sin value and sort\n",
    "    top_20 = list(score_series.iloc[:21].index) #Extract top 20 restaurant indices with a similar cosine-sin value\n",
    "    \n",
    "    \n",
    "    for i in top_20:\n",
    "        recommnend_restaurants.append(list(df_percent.index)[i])\n",
    "    \n",
    "    df_recommended = pd.DataFrame(columns=['cuisines', 'rate', 'approx_cost(for two people)'])\n",
    "    \n",
    "    for i in recommnend_restaurants:\n",
    "        df_recommended = df_recommended.append(pd.DataFrame(df_percent[['cuisines','rate', 'approx_cost(for two people)']][df_percent.index == i].sample()))\n",
    "    \n",
    "    # Drop the same named restaurants and sort only the top 10 by the highest rating\n",
    "    df_recommended = df_recommended.drop_duplicates(subset=['cuisines', 'rate', 'approx_cost(for two people)'],keep=False)\n",
    "    df_recommended = df_recommended.sort_values(by='rate',ascending=False).head(10)\n",
    "    \n",
    "    print('TOP %s RESTAURANTS LIKE %s WITH SIMILAR REVIEWS: ' % (str(len(df_recommended)), name))\n",
    "    \n",
    "    return df_recommended\n",
    "recommend('Taj Hotel')"
   ]
  }
 ],
 "metadata": {
  "kernelspec": {
   "display_name": "Python 3",
   "language": "python",
   "name": "python3"
  },
  "language_info": {
   "codemirror_mode": {
    "name": "ipython",
    "version": 3
   },
   "file_extension": ".py",
   "mimetype": "text/x-python",
   "name": "python",
   "nbconvert_exporter": "python",
   "pygments_lexer": "ipython3",
   "version": "3.8.5"
  }
 },
 "nbformat": 4,
 "nbformat_minor": 4
}
